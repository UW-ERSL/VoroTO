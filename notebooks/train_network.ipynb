{
 "cells": [
  {
   "cell_type": "code",
   "execution_count": null,
   "metadata": {},
   "outputs": [],
   "source": [
    "import sys\n",
    "sys.path.append('../')\n",
    "\n",
    "import yaml\n",
    "\n",
    "import torch\n",
    "import pandas as pd\n",
    "import numpy as np\n",
    "import matplotlib.pyplot as plt\n",
    "\n",
    "import dataset\n",
    "import networks\n",
    "import utils\n",
    "_Ext = utils.Extent\n",
    "from sklearn.model_selection import KFold"
   ]
  },
  {
   "cell_type": "code",
   "execution_count": null,
   "metadata": {},
   "outputs": [],
   "source": [
    "with open('../settings.yaml', 'r') as file:\n",
    "  config = yaml.safe_load(file)\n",
    "\n",
    "\n",
    "train_cfg = config['NN_TRAINING']\n",
    "nn_cfg = config['NEURAL_NETWORK']"
   ]
  },
  {
   "cell_type": "markdown",
   "metadata": {},
   "source": [
    "# Load the data"
   ]
  },
  {
   "cell_type": "code",
   "execution_count": null,
   "metadata": {},
   "outputs": [],
   "source": [
    "# input data\n",
    "cx_raw = np.load('../data/cx_aniso_raw.npy')\n",
    "cy_raw = np.load('../data/cy_aniso_raw.npy')\n",
    "beta_raw = np.load('../data/beta_aniso_raw.npy')\n",
    "orient_raw = np.load('../data/orient_aniso_raw.npy')\n",
    "aniso_raw = np.load('../data/aniso_raw.npy')\n",
    "\n",
    "# output data\n",
    "vf_raw = np.load('../data/vf_aniso_raw.npy')\n",
    "constit_chol_raw = np.load('../data/const_chol_aniso_raw.npy')"
   ]
  },
  {
   "cell_type": "code",
   "execution_count": null,
   "metadata": {},
   "outputs": [],
   "source": [
    "num_samples = cx_raw.shape[0]\n",
    "\n",
    "print(f'We have {num_samples} samples')"
   ]
  },
  {
   "cell_type": "markdown",
   "metadata": {},
   "source": [
    "# Stack data"
   ]
  },
  {
   "cell_type": "code",
   "execution_count": null,
   "metadata": {},
   "outputs": [],
   "source": [
    "# input\n",
    "\n",
    "# All the cx of the first cell stacked on top of the second and so on...\n",
    "# note that the center cell corresponds to the 4th entry (look at neighbors code)\n",
    "nn_in_raw = np.hstack(( cx_raw.reshape((num_samples, -1)),\n",
    "                        cy_raw.reshape((num_samples, -1)),\n",
    "                        beta_raw[:, np.newaxis],\n",
    "                        orient_raw[:, np.newaxis],\n",
    "                        aniso_raw[:, np.newaxis],))\n",
    "\n",
    "print(f'input data contains {nn_in_raw.shape[0]} samples with {nn_in_raw.shape[1]} features')\n",
    "\n",
    "# output\n",
    "nn_out_raw = np.vstack((constit_chol_raw[:,0],\n",
    "                        constit_chol_raw[:,1],\n",
    "                        constit_chol_raw[:,2],\n",
    "                        constit_chol_raw[:,3],\n",
    "                        constit_chol_raw[:,4],\n",
    "                        constit_chol_raw[:,5],\n",
    "                        vf_raw\n",
    "                        )).T\n",
    "\n",
    "print(f'output data contains {nn_out_raw.shape[0]} samples with {nn_out_raw.shape[1]} features')"
   ]
  },
  {
   "cell_type": "markdown",
   "metadata": {},
   "source": [
    "# Clean up data"
   ]
  },
  {
   "cell_type": "code",
   "execution_count": null,
   "metadata": {},
   "outputs": [],
   "source": [
    "output_mean, output_std = np.mean(nn_out_raw, axis=0), np.std(nn_out_raw, axis=0)\n",
    "\n",
    "np.save('../data/output_mean', output_mean)\n",
    "np.save('../data/output_std', output_std)\n"
   ]
  },
  {
   "cell_type": "code",
   "execution_count": null,
   "metadata": {},
   "outputs": [],
   "source": [
    "nn_out = utils.normalize_z_scale(nn_out_raw, output_mean, output_std)"
   ]
  },
  {
   "cell_type": "markdown",
   "metadata": {},
   "source": [
    "# Create datasets and loader helpers"
   ]
  },
  {
   "cell_type": "code",
   "execution_count": null,
   "metadata": {},
   "outputs": [],
   "source": [
    "num_train = 10000\n",
    "num_test = 1000\n",
    "num_validate = 1000\n",
    "\n",
    "voronoi_data = dataset.VoronoiDataset(voronoi_params=nn_in_raw,\n",
    "                                      homogen_params=nn_out)\n",
    "\n",
    "train_data = torch.utils.data.Subset(voronoi_data, np.arange(0, num_train))\n",
    "test_data = torch.utils.data.Subset(voronoi_data, np.arange(num_train, num_train+ num_test))\n",
    "val_data = torch.utils.data.Subset(voronoi_data, np.arange(num_train+ num_test, num_train+ num_test+num_validate))"
   ]
  },
  {
   "cell_type": "code",
   "execution_count": null,
   "metadata": {},
   "outputs": [],
   "source": [
    "num_workers = 0\n",
    "batch_size = train_cfg['batch_size']\n",
    "\n",
    "train_loader = torch.utils.data.DataLoader(train_data, \n",
    "                                           batch_size=batch_size,\n",
    "                                           shuffle=True,\n",
    "                                           num_workers=num_workers)\n",
    "test_loader = torch.utils.data.DataLoader(test_data,\n",
    "                                          batch_size=batch_size,\n",
    "                                          shuffle=True,\n",
    "                                          num_workers=num_workers)"
   ]
  },
  {
   "cell_type": "markdown",
   "metadata": {},
   "source": [
    "# NN settings and init"
   ]
  },
  {
   "cell_type": "code",
   "execution_count": null,
   "metadata": {},
   "outputs": [],
   "source": [
    "\n",
    "nn_settings = networks.NNSettings(\n",
    "                          input_dim = nn_in_raw.shape[1],\n",
    "                          num_layers = nn_cfg['num_layers'],\n",
    "                          num_neurons_per_layer = nn_cfg['neurons_per_layer'],\n",
    "                          output_dim = nn_out.shape[1]\n",
    "                          )\n",
    "\n",
    "voro_net = networks.VoronoiNet(nn_settings)"
   ]
  },
  {
   "cell_type": "markdown",
   "metadata": {},
   "source": [
    "# Train loop"
   ]
  },
  {
   "cell_type": "code",
   "execution_count": null,
   "metadata": {},
   "outputs": [],
   "source": [
    "# Optimizer\n",
    "optimizer = torch.optim.Adam(voro_net.parameters(), lr= train_cfg['lr'])"
   ]
  },
  {
   "cell_type": "code",
   "execution_count": null,
   "metadata": {},
   "outputs": [],
   "source": [
    "def get_C_matrix(homo_params_unnormalized):\n",
    "  L = torch.zeros((homo_params_unnormalized.shape[0], 3, 3))\n",
    "  L[:,0,0] = torch.clip(homo_params_unnormalized[:, 0], min=1e-3)\n",
    "  L[:,1,1] = torch.clip(homo_params_unnormalized[:, 1], min=1e-3)\n",
    "  L[:,2,2] = torch.clip(homo_params_unnormalized[:, 2], min=1e-3)\n",
    "  L[:,1,0] = homo_params_unnormalized[:, 3]\n",
    "  L[:,2,0] = homo_params_unnormalized[:, 4]\n",
    "  L[:,2,1] = homo_params_unnormalized[:, 5]\n",
    "  C_matrix = torch.einsum('dij,djk->dik',L, torch.transpose(L, 1, 2))\n",
    "  return C_matrix\n"
   ]
  },
  {
   "cell_type": "code",
   "execution_count": null,
   "metadata": {},
   "outputs": [],
   "source": [
    "homo_params_unnorm = torch.tensor(nn_out_raw)\n",
    "C_matrix = get_C_matrix(homo_params_unnorm)\n",
    "max_C_norm = torch.amax(torch.linalg.norm(C_matrix, dim=(1, 2)))"
   ]
  },
  {
   "cell_type": "code",
   "execution_count": null,
   "metadata": {},
   "outputs": [],
   "source": [
    "def loss_wrapper(homo_params, pred_homo_params):\n",
    "  homo_params_unnorm = utils.unnormalize_z_scale(homo_params, torch.tensor(output_mean), torch.tensor(output_std))\n",
    "  pred_homo_params_unnorm = utils.unnormalize_z_scale(pred_homo_params, torch.tensor(output_mean), torch.tensor(output_std))\n",
    "\n",
    "  pred_vf = pred_homo_params_unnorm[:, 6].unsqueeze(1)\n",
    "  vf = homo_params_unnorm[:, 6].unsqueeze(1)\n",
    "\n",
    "  pred_C_matrix = get_C_matrix(pred_homo_params_unnorm).view(homo_params_unnorm.shape[0], -1)\n",
    "  C_matrix = get_C_matrix(homo_params_unnorm).view(homo_params_unnorm.shape[0], -1)\n",
    "  \n",
    "  pred_C_vf = torch.hstack((pred_C_matrix, pred_vf))\n",
    "  actual_C_vf = torch.hstack((C_matrix, vf))\n",
    "  \n",
    "  mean_squared_loss = torch.mean((pred_C_vf - actual_C_vf)**2 )\n",
    "\n",
    "  return mean_squared_loss.item()"
   ]
  },
  {
   "cell_type": "code",
   "execution_count": null,
   "metadata": {},
   "outputs": [],
   "source": [
    "# number of epochs to train the model\n",
    "num_epochs = train_cfg['num_epochs']\n",
    "\n",
    "convg_history = {'train_loss': [], 'test_loss': [], 'val_loss': []}\n",
    "\n",
    "for epoch in range(1, num_epochs+1):\n",
    "\n",
    "  net_loss = 0.\n",
    "\n",
    "  for data in train_loader:\n",
    "\n",
    "    voro_params, homo_params = data\n",
    "    optimizer.zero_grad()\n",
    "\n",
    "    pred_homo_params = voro_net(voro_params)\n",
    "\n",
    "    loss = torch.mean((pred_homo_params - homo_params)**2)\n",
    "\n",
    "    loss.backward()\n",
    "    optimizer.step()\n",
    "\n",
    "    net_loss += loss.item()\n",
    "\n",
    "\n",
    "  net_loss = net_loss/len(train_loader)\n",
    "\n",
    "  print(f'epoch: {epoch:d} \\t loss: {net_loss:.2E}')\n",
    "  \n",
    "\n",
    "  if epoch%1 == 0:\n",
    "    voro_params, homo_params = train_data[:]\n",
    "    pred_homo_params = voro_net(voro_params)\n",
    "    \n",
    "    loss = loss_wrapper(homo_params, pred_homo_params)\n",
    "    convg_history['train_loss'].append(loss)\n",
    "\n",
    "    voro_params, homo_params = test_data[:]\n",
    "    pred_homo_params = voro_net(voro_params)\n",
    "\n",
    "    \n",
    "    test_loss = loss_wrapper(homo_params, pred_homo_params)\n",
    "    convg_history['test_loss'].append(test_loss)\n",
    "\n",
    "\n",
    "    voro_params, homo_params = val_data[:]\n",
    "    pred_homo_params = voro_net(voro_params)\n",
    "    \n",
    "    val_loss = loss_wrapper(homo_params, pred_homo_params)\n",
    "    convg_history['val_loss'].append(val_loss)\n",
    "\n",
    "\n",
    "    print(\"-\"*65)\n",
    "    print(f'Validation: {epoch:d} \\t loss: {val_loss:.2E}')\n",
    "    print(\"-\"*65)"
   ]
  },
  {
   "cell_type": "code",
   "execution_count": null,
   "metadata": {},
   "outputs": [],
   "source": [
    "plt.figure()\n",
    "plt.plot(convg_history['train_loss'], label='Training Loss')\n",
    "plt.plot(convg_history['test_loss'], label='Testing Loss')\n",
    "plt.plot(convg_history['val_loss'], label='Validation Loss')\n",
    "plt.xlabel('Epoch')\n",
    "plt.ylabel('Loss')\n",
    "plt.legend()\n",
    "plt.show()"
   ]
  },
  {
   "cell_type": "code",
   "execution_count": null,
   "metadata": {},
   "outputs": [],
   "source": [
    "torch.save(voro_net.state_dict(), '../data/voro_net.pt')"
   ]
  },
  {
   "cell_type": "markdown",
   "metadata": {},
   "source": [
    "# Check if saving and loading works"
   ]
  },
  {
   "cell_type": "code",
   "execution_count": null,
   "metadata": {},
   "outputs": [],
   "source": [
    "voro_net = networks.VoronoiNet(nn_settings)\n",
    "voro_net.load_state_dict(torch.load('../data/voro_net.pt'))\n",
    "voro_net.eval()"
   ]
  }
 ],
 "metadata": {
  "kernelspec": {
   "display_name": "torchenv",
   "language": "python",
   "name": "python3"
  },
  "language_info": {
   "codemirror_mode": {
    "name": "ipython",
    "version": 3
   },
   "file_extension": ".py",
   "mimetype": "text/x-python",
   "name": "python",
   "nbconvert_exporter": "python",
   "pygments_lexer": "ipython3",
   "version": "3.10.9"
  }
 },
 "nbformat": 4,
 "nbformat_minor": 2
}
