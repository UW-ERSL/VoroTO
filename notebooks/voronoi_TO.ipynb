{
 "cells": [
  {
   "cell_type": "code",
   "execution_count": null,
   "metadata": {},
   "outputs": [],
   "source": [
    "import sys\n",
    "sys.path.append('../')\n",
    "\n",
    "import yaml\n",
    "\n",
    "import numpy as np\n",
    "import torch\n",
    "import pandas as pd\n",
    "\n",
    "import mesher\n",
    "import material\n",
    "import utils\n",
    "import bcs\n",
    "import solver\n",
    "import losses\n",
    "import experiments\n",
    "import voronoi\n",
    "import matplotlib.pyplot as plt\n",
    "from typing import Tuple\n",
    "import networks\n",
    "_Ext = utils.Extent\n",
    "import matplotlib as mpl\n",
    "import homogenize\n",
    "mpl.rcParams['figure.dpi'] = 500"
   ]
  },
  {
   "cell_type": "markdown",
   "metadata": {},
   "source": [
    "# Load configs"
   ]
  },
  {
   "cell_type": "code",
   "execution_count": null,
   "metadata": {},
   "outputs": [],
   "source": [
    "with open('../settings.yaml', 'r') as file:\n",
    "  config = yaml.safe_load(file)\n",
    "\n",
    "bbox_cfg = config['DOM_BBOX']\n",
    "mesh_cfg = config['DOM_MESH']\n",
    "voro_cfg = config['VORONOI_OPT']\n",
    "mat_cfg = config['MATERIAL']\n",
    "nn_cfg = config['NEURAL_NETWORK']\n",
    "loss_cfg = config['PENALTY_LOSS']\n",
    "to_cfg = config['TOPOPT']"
   ]
  },
  {
   "cell_type": "markdown",
   "metadata": {},
   "source": [
    "# Define the domain, material, BC and solver"
   ]
  },
  {
   "cell_type": "code",
   "execution_count": null,
   "metadata": {},
   "outputs": [],
   "source": [
    "bbox = mesher.BoundingBox(x=_Ext(bbox_cfg['x_min'], bbox_cfg['x_max']),\n",
    "                          y=_Ext(bbox_cfg['y_min'], bbox_cfg['y_max']))\n",
    "\n",
    "mesh = mesher.BilinearStructMesher(nelx=mesh_cfg['nelx'],\n",
    "                                   nely=mesh_cfg['nely'],\n",
    "                                   bounding_box=bbox)"
   ]
  },
  {
   "cell_type": "code",
   "execution_count": null,
   "metadata": {},
   "outputs": [],
   "source": [
    "struct_mat = material.MaterialConstants(youngs_modulus=mat_cfg['youngs_modulus'],\n",
    "                                        poissons_ratio=mat_cfg['poissons_ratio'])"
   ]
  },
  {
   "cell_type": "code",
   "execution_count": null,
   "metadata": {},
   "outputs": [],
   "source": [
    "bc = bcs.get_sample_struct_bc(mesh, bcs.SturctBCs.MID_CANT_BEAM)"
   ]
  },
  {
   "cell_type": "code",
   "execution_count": null,
   "metadata": {},
   "outputs": [],
   "source": [
    "fe = solver.Solver(mesh, struct_mat, bc)"
   ]
  },
  {
   "cell_type": "markdown",
   "metadata": {},
   "source": [
    "# Voronoi parameters"
   ]
  },
  {
   "cell_type": "markdown",
   "metadata": {},
   "source": [
    "## Cell site definition"
   ]
  },
  {
   "cell_type": "code",
   "execution_count": null,
   "metadata": {},
   "outputs": [],
   "source": [
    "num_cells_x, num_cells_y = voro_cfg['cells_per_elem']\n",
    "cells_per_elem = num_cells_x*num_cells_y"
   ]
  },
  {
   "cell_type": "markdown",
   "metadata": {},
   "source": [
    "## Cell local coordinate frame"
   ]
  },
  {
   "cell_type": "code",
   "execution_count": null,
   "metadata": {},
   "outputs": [],
   "source": [
    "voro_local_extent = voronoi.VoronoiExtent(x=_Ext(-0.5, 0.5),\n",
    "                                          y=_Ext(-0.5, 0.5))"
   ]
  },
  {
   "cell_type": "markdown",
   "metadata": {},
   "source": [
    "## Cell site freedom"
   ]
  },
  {
   "cell_type": "code",
   "execution_count": null,
   "metadata": {},
   "outputs": [],
   "source": [
    "min_seperation = voro_cfg['min_seperation']\n",
    "\n",
    "voro_perturb_dx, voro_perturb_dy = mesher.compute_range_from_min_seperation(\n",
    "                min_seperation, voro_local_extent, num_cells_x, num_cells_y)\n",
    "\n",
    "voro_perturb_range_x = utils.Extent(min=-voro_perturb_dx,\n",
    "                                    max=voro_perturb_dx)\n",
    "voro_perturb_range_y = utils.Extent(min=-voro_perturb_dy,\n",
    "                                    max=voro_perturb_dy)"
   ]
  },
  {
   "cell_type": "markdown",
   "metadata": {},
   "source": [
    "## Cell site ground state"
   ]
  },
  {
   "cell_type": "code",
   "execution_count": null,
   "metadata": {},
   "outputs": [],
   "source": [
    "dx, dy = voro_local_extent.lx/num_cells_x, voro_local_extent.ly/num_cells_y\n",
    "\n",
    "[x_grid, y_grid] = np.meshgrid(\n",
    "    np.linspace(voro_local_extent.x.min + dx/2., voro_local_extent.x.max - dx/2., num_cells_x),\n",
    "    np.linspace(voro_local_extent.y.min + dy/2., voro_local_extent.y.max - dy/2., num_cells_y))\n",
    "voro_ground_x = torch.tensor(x_grid).view(-1).float()\n",
    "voro_ground_y = torch.tensor(y_grid).view(-1).float()"
   ]
  },
  {
   "cell_type": "markdown",
   "metadata": {},
   "source": [
    "## Voronoi NN definition"
   ]
  },
  {
   "cell_type": "code",
   "execution_count": null,
   "metadata": {},
   "outputs": [],
   "source": [
    "num_neigh = 9\n",
    "num_dim = 2\n",
    "num_addn_voro_params = 3 # aniso, thick, orient\n",
    "input_dim = num_dim*cells_per_elem*num_neigh + num_addn_voro_params\n",
    "output_dim = 7 # 6 components of L matrix and vol frac\n",
    "nn_settings = networks.NNSettings(\n",
    "                          input_dim = input_dim,\n",
    "                          num_layers = nn_cfg['num_layers'],\n",
    "                          num_neurons_per_layer = nn_cfg['neurons_per_layer'],\n",
    "                          output_dim = output_dim\n",
    "                          )\n",
    "\n",
    "voro_net =  networks.VoronoiNet(nn_settings)\n",
    "voro_net.load_state_dict(torch.load('../data/voro_net.pt'))\n",
    "voro_net.eval()"
   ]
  },
  {
   "cell_type": "markdown",
   "metadata": {},
   "source": [
    "## Voronoi NN normalization scales"
   ]
  },
  {
   "cell_type": "code",
   "execution_count": null,
   "metadata": {},
   "outputs": [],
   "source": [
    "output_mean = utils.to_torch(np.load('../data/output_mean.npy'))\n",
    "output_std = utils.to_torch(np.load('../data/output_std.npy'))"
   ]
  },
  {
   "cell_type": "code",
   "execution_count": null,
   "metadata": {},
   "outputs": [],
   "source": [
    "beta_ext = _Ext(voro_cfg['thick_min'], voro_cfg['thick_max'])\n",
    "aniso_ext = _Ext(voro_cfg['aniso_min'], voro_cfg['aniso_max'])\n",
    "orient_ext = _Ext(voro_cfg['orient_min'], voro_cfg['orient_max'])"
   ]
  },
  {
   "cell_type": "markdown",
   "metadata": {},
   "source": [
    "# Define the smoothing filter"
   ]
  },
  {
   "cell_type": "code",
   "execution_count": null,
   "metadata": {},
   "outputs": [],
   "source": [
    "filter_weights = utils.to_torch(mesher.compute_radial_filter(\n",
    "                                    mesh, radius=to_cfg['filt_radius'])\n",
    "                                )"
   ]
  },
  {
   "cell_type": "markdown",
   "metadata": {},
   "source": [
    "# Define the symmetry params"
   ]
  },
  {
   "cell_type": "code",
   "execution_count": null,
   "metadata": {},
   "outputs": [],
   "source": [
    "symMap = {'XAxis':{'isOn':True, \\\n",
    "'midPt': 0.5*mesh.elem_size[1]*mesh_cfg['nely']},\\\n",
    "'YAxis':{'isOn':False, \\\n",
    "'midPt': 0.5*mesh.elem_size[0]*mesh_cfg['nelx']}}\n",
    "xyR, signsReflection = experiments.apply_reflection(torch.tensor(mesh.elem_centers).float(), symMap)"
   ]
  },
  {
   "cell_type": "markdown",
   "metadata": {},
   "source": [
    "# Define optimization"
   ]
  },
  {
   "cell_type": "code",
   "execution_count": null,
   "metadata": {},
   "outputs": [],
   "source": [
    "def topopt(fe: solver.Solver,\n",
    "          desired_vol_frac: float,\n",
    "          max_iter: int,\n",
    "          loss_params: losses.PenaltyParams,\n",
    "          lr: float = 1e-2,\n",
    "          plot_interval: int = 20):\n",
    "\n",
    "  # initalize\n",
    "  params_per_elem = num_dim*cells_per_elem + num_addn_voro_params\n",
    "\n",
    "  init_var = np.random.uniform(0., 1., (params_per_elem*fe.mesh.num_elems))\n",
    "  opt_params = torch.tensor(init_var, requires_grad=True)\n",
    "\n",
    "  optimizer = torch.optim.Adam([opt_params], lr=lr)\n",
    "\n",
    "  J0 = 1.\n",
    "  convg_history = {'epoch': [], 'obj': [], 'vol_cons': []}\n",
    "  neighbors = mesher.get_neighbors(fe.mesh)\n",
    "\n",
    "  # loss wrapper\n",
    "  def loss_fn(cell_params, epoch, desired_volume_fraction):\n",
    "    \n",
    "    # retrieve the parameters\n",
    "    voro_perturb_cx = cell_params[:, :cells_per_elem]\n",
    "    voro_perturb_cy = cell_params[:, cells_per_elem:2*cells_per_elem]\n",
    "    beta = cell_params[:, -3]\n",
    "    orient = cell_params[:, -2]\n",
    "    aniso = cell_params[:, -1]\n",
    "\n",
    "   \n",
    "  \n",
    "\n",
    "    # # filters\n",
    "    beta = torch.einsum('ij,j->i', filter_weights, beta)\n",
    "    orient = torch.einsum('ij,j->i', filter_weights, orient)\n",
    "    aniso = torch.einsum('ij,j->i', filter_weights, aniso)\n",
    "\n",
    "    # compute the cell coordns from predicted perturbations\n",
    "    voro_cx, voro_cy = mesher.get_cell_coordinates_from_perturbations(\n",
    "                                                             voro_perturb_cx,\n",
    "                                                             voro_perturb_cy,\n",
    "                                                             voro_ground_x,\n",
    "                                                             voro_ground_y)\n",
    "    cx_neigh = voro_cx[neighbors, :].reshape((fe.mesh.num_elems, -1))\n",
    "    cy_neigh = voro_cy[neighbors, :].reshape((fe.mesh.num_elems, -1))\n",
    "    \n",
    "    # stack the inputs and fwd prop thru NN\n",
    "    nn_in = torch.hstack((cx_neigh,\n",
    "                          cy_neigh,\n",
    "                          beta[:, None],\n",
    "                          orient[:, None],\n",
    "                          aniso[:, None]))\n",
    "    nn_pred_raw = voro_net(nn_in)\n",
    "    homo_pred = utils.unnormalize_z_scale(nn_pred_raw, output_mean, output_std)\n",
    "\n",
    "    # retrieve pred params and ensure SPD\n",
    "    L = torch.zeros((nn_in.shape[0], 3, 3))\n",
    "    L[:,0,0] = torch.clip(homo_pred[:, 0], min=1e-3)\n",
    "    L[:,1,1] = torch.clip(homo_pred[:, 1], min=1e-3)\n",
    "    L[:,2,2] = torch.clip(homo_pred[:, 2], min=1e-3)\n",
    "    L[:,1,0] = homo_pred[:, 3]\n",
    "    L[:,2,0] = homo_pred[:, 4]\n",
    "    L[:,2,1] = homo_pred[:, 5]\n",
    "\n",
    "    # retrieve C matrix from L matrix\n",
    "    C = torch.einsum('dij,djk->dik',L, L.transpose(1,2))\n",
    "    C_components = (C[:,0,0],\n",
    "                    C[:,1,1],\n",
    "                    C[:,2,2],\n",
    "                    C[:,0,1],\n",
    "                    C[:,0,2],\n",
    "                    C[:,1,2])\n",
    "    \n",
    "    # solve fea and get loss metric \n",
    "    J, u =  fe.loss_function(C_components)\n",
    "\n",
    "    # compute constraint\n",
    "    density = homo_pred[:,6]\n",
    "    vc = (torch.mean(density)/desired_volume_fraction) - 1.\n",
    "\n",
    "    # merge loss together using penalty scheme\n",
    "    loss = losses.combined_loss(J/J0, [vc], loss_params, epoch)\n",
    "    return loss, J, vc, density, u\n",
    "\n",
    "  for epoch in range(max_iter):\n",
    "    optimizer.zero_grad()\n",
    "\n",
    "    opt_raw = torch.sigmoid(opt_params).reshape((mesh.num_elems, params_per_elem))\n",
    " \n",
    "\n",
    "    cell_params = torch.zeros((mesh.num_elems, params_per_elem))\n",
    "\n",
    "\n",
    "    cell_params[:, :cells_per_elem] = utils.unnormalize(\n",
    "                                        opt_raw[:, :cells_per_elem],\n",
    "                                            voro_perturb_range_x)\n",
    "    cell_params[:, cells_per_elem:2*cells_per_elem] = utils.unnormalize(\n",
    "                              opt_raw[:, cells_per_elem:2*cells_per_elem],\n",
    "                                                voro_perturb_range_y)\n",
    "    \n",
    "    cell_params[:, -3] = utils.unnormalize(opt_raw[:,-3], beta_ext)\n",
    "    cell_params[:, -2] = utils.unnormalize(opt_raw[:,-2], orient_ext)\n",
    "    cell_params[:, -1] = utils.unnormalize(opt_raw[:,-1], aniso_ext)\n",
    "\n",
    "\n",
    "    # cell_params = experiments.x_symmetry(mesh.nelx, mesh.nely, cell_params)\n",
    "    # # cell_params = experiments.y_symmetry(mesh.nelx, mesh.nely, cell_params)\n",
    "    # cell_params[:, -2] = (2.*torch.pi + torch.einsum('i,i->i', cell_params[:, -2], signsReflection['X']))%(2.*torch.pi)\n",
    "    # cell_params[:, -2] =  (2.*torch.pi + torch.einsum('i,i->i', cell_params[:, -2], signsReflection['Y']))%(2.*torch.pi)\n",
    "\n",
    "    loss, J, vc, density, u = loss_fn(cell_params, epoch,\n",
    "                                                      desired_vol_frac)\n",
    "\n",
    "    loss.backward()\n",
    "    torch.nn.utils.clip_grad_norm_([opt_params], 0.1)\n",
    "    optimizer.step()\n",
    "    status = f'epoch {epoch} J {J.item():.2E} vc {vc.item():.2F}'\n",
    "    print(status)\n",
    "\n",
    "    convg_history['epoch'].append(epoch)\n",
    "    convg_history['obj'].append(J.item())\n",
    "    convg_history['vol_cons'].append(vc.item())\n",
    "  \n",
    "    if epoch == 1 or epoch == 10:\n",
    "      J0 = J.item()\n",
    "\n",
    "    if(epoch% plot_interval == 0):\n",
    "      fig, ax = plt.subplots(1, 1)\n",
    "      img = ax.imshow(utils.to_np(density).reshape((mesh.nelx, mesh.nely)).T,\n",
    "                   cmap='coolwarm', origin='lower')\n",
    "      plt.colorbar(img); \n",
    "      ax.set_axis_off()\n",
    "      fig.tight_layout(); fig.show(); plt.pause(1e-6)\n",
    "\n",
    "  return density, cell_params, u, convg_history"
   ]
  },
  {
   "cell_type": "code",
   "execution_count": null,
   "metadata": {},
   "outputs": [],
   "source": [
    "loss_params = losses.PenaltyParams(alpha0=loss_cfg['alpha_0'],\n",
    "                                   del_alpha=loss_cfg['del_alpha'])"
   ]
  },
  {
   "cell_type": "code",
   "execution_count": null,
   "metadata": {},
   "outputs": [],
   "source": [
    "density, cell_params, u, convg_history = topopt(fe=fe, \n",
    "                                                desired_vol_frac=to_cfg['vol_frac'],\n",
    "                                                max_iter=to_cfg['num_epochs'],\n",
    "                                                loss_params=loss_params,\n",
    "                                                lr=to_cfg['lr'])"
   ]
  },
  {
   "cell_type": "markdown",
   "metadata": {},
   "source": [
    "# Plot"
   ]
  },
  {
   "cell_type": "code",
   "execution_count": null,
   "metadata": {},
   "outputs": [],
   "source": [
    "def plot_voronoi(cell_x: np.ndarray,\n",
    "                 cell_y: np.ndarray,\n",
    "                 thkns: np.ndarray,\n",
    "                 orient: np.ndarray,\n",
    "                 aniso: np.ndarray,\n",
    "                 global_mesh: mesher.Mesher,\n",
    "                 nelx_mstr: int,\n",
    "                 nely_mstr: int,\n",
    "                 threshold: float = 0.2):\n",
    "\n",
    "  # get the global coornds of the voronoi cells\n",
    "  glob_vor_x, glob_vor_y = voronoi.compute_voronoi_cell_coordns_to_global_frame(\n",
    "                                                cell_x, cell_y, global_mesh)\n",
    "\n",
    "  neighbors = mesher.get_neighbors(global_mesh)\n",
    "  cx_neigh, cy_neigh = glob_vor_x[neighbors], glob_vor_y[neighbors]\n",
    "\n",
    "  beta_neigh = np.repeat(thkns[neighbors], cells_per_elem, axis=1)\n",
    "  orient_neigh = np.repeat(orient[neighbors], cells_per_elem, axis=1)\n",
    "  aniso_neigh = np.repeat(aniso[neighbors], cells_per_elem, axis=1)\n",
    "\n",
    "  composite_img = np.ones((nelx_mstr*global_mesh.nelx,\n",
    "                            nely_mstr*global_mesh.nely))\n",
    "  \n",
    "  # process each mstr\n",
    "  curr_mstr = 0\n",
    "  for rw in range(global_mesh.nelx):\n",
    "    st_x, end_x = rw*nelx_mstr, (rw+1)*nelx_mstr\n",
    "    x_min, x_max = (rw-1)*global_mesh.elem_size[0], (rw+2)*global_mesh.elem_size[0]\n",
    "    for col in range(global_mesh.nely):\n",
    "      st_y, end_y = col*nely_mstr, (col+1)*nely_mstr\n",
    "      y_min, y_max = (col-1)*global_mesh.elem_size[1], (col+2)*global_mesh.elem_size[1]\n",
    "\n",
    "      mstr_bbox = mesher.BoundingBox(x=_Ext(x_min, x_max), y=_Ext(y_min, y_max))\n",
    "      mstr_mesh = mesher.Mesher(3*nelx_mstr, 3*nely_mstr, mstr_bbox)\n",
    "\n",
    "      mstr_dens = voronoi.compute_voronoi_density_field_aniso(\n",
    "                                          mstr_mesh,\n",
    "                                          cx_neigh[curr_mstr, ...].reshape(-1),\n",
    "                                          cy_neigh[curr_mstr, ...].reshape(-1),\n",
    "                                          beta_neigh[curr_mstr, :],\n",
    "                                          orient_neigh[curr_mstr, :],\n",
    "                                          aniso_neigh[curr_mstr, :]\n",
    "                                          ).reshape((mstr_mesh.nelx,\n",
    "                                                      mstr_mesh.nely)\n",
    "                                          )\n",
    "\n",
    "      central_mstr = mstr_dens[nelx_mstr:2*nelx_mstr, nely_mstr:2*nely_mstr]\n",
    "\n",
    "      if np.mean(central_mstr) < threshold:\n",
    "        composite_img[st_x:end_x, st_y:end_y] = central_mstr\n",
    "    \n",
    "      curr_mstr += 1\n",
    "  return composite_img"
   ]
  },
  {
   "cell_type": "code",
   "execution_count": null,
   "metadata": {},
   "outputs": [],
   "source": [
    "\n",
    "voro_perturb_cx = cell_params[:,:cells_per_elem]\n",
    "voro_perturb_cy = cell_params[:,cells_per_elem:2*cells_per_elem]\n",
    "beta = cell_params[:,-3]\n",
    "orient = cell_params[:,-2]\n",
    "aniso = cell_params[:,-1]\n",
    "\n",
    "voro_cx, voro_cy = mesher.get_cell_coordinates_from_perturbations(\n",
    "                                                             voro_perturb_cx,\n",
    "                                                             voro_perturb_cy,\n",
    "                                                             voro_ground_x,\n",
    "                                                             voro_ground_y)\n",
    "\n",
    "\n",
    "beta = torch.einsum('ij,j->i', filter_weights, beta)\n",
    "orient = torch.einsum('ij,j->i', filter_weights, orient)\n",
    "aniso = torch.einsum('ij,j->i', filter_weights, aniso)"
   ]
  },
  {
   "cell_type": "code",
   "execution_count": null,
   "metadata": {},
   "outputs": [],
   "source": [
    "nx_img = 40\n",
    "ny_img = 40\n",
    "H = homogenize.Homogenization(lx=1.,\n",
    "                              ly=1.,\n",
    "                              nelx=nx_img,\n",
    "                              nely=ny_img,\n",
    "                              phiInDeg=90.,\n",
    "                              matProp=struct_mat,\n",
    "                              penal=3.)"
   ]
  },
  {
   "cell_type": "code",
   "execution_count": null,
   "metadata": {},
   "outputs": [],
   "source": [
    "composite_img = plot_voronoi(\n",
    "                utils.to_np(voro_cx),\n",
    "                utils.to_np(voro_cy),\n",
    "                utils.to_np(beta),\n",
    "                utils.to_np(orient),\n",
    "                utils.to_np(aniso),\n",
    "                mesh,\n",
    "                nelx_mstr=nx_img,\n",
    "                nely_mstr=ny_img,\n",
    "                threshold=0.95)"
   ]
  },
  {
   "cell_type": "code",
   "execution_count": null,
   "metadata": {},
   "outputs": [],
   "source": [
    "# %matplotlib qt\n",
    "# %matplotlib inline\n",
    "\n",
    "fig, ax = plt.subplots(1,1)\n",
    "ax.imshow(1. - composite_img.T, cmap='gray', origin='lower')\n",
    "ax.set_axis_off()\n",
    "fig.tight_layout()\n",
    "\n",
    "\n",
    "# Close the figure if needed\n",
    "#plt.close(fig)"
   ]
  }
 ],
 "metadata": {
  "kernelspec": {
   "display_name": "torchenv",
   "language": "python",
   "name": "python3"
  },
  "language_info": {
   "codemirror_mode": {
    "name": "ipython",
    "version": 3
   },
   "file_extension": ".py",
   "mimetype": "text/x-python",
   "name": "python",
   "nbconvert_exporter": "python",
   "pygments_lexer": "ipython3",
   "version": "3.10.9"
  }
 },
 "nbformat": 4,
 "nbformat_minor": 2
}
