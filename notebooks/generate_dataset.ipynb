{
 "cells": [
  {
   "cell_type": "code",
   "execution_count": null,
   "metadata": {},
   "outputs": [],
   "source": [
    "import sys\n",
    "sys.path.append('../')\n",
    "\n",
    "import yaml\n",
    "import numpy as np\n",
    "\n",
    "import mesher\n",
    "import material\n",
    "import utils\n",
    "import homogenize\n",
    "import voronoi\n",
    "import matplotlib.pyplot as plt\n",
    "_Ext = utils.Extent\n",
    "import matplotlib as mpl\n",
    "plt.rcParams[\"figure.figsize\"] = (15,10)\n",
    "mpl.rcParams['figure.dpi'] = 300\n",
    "rng = np.random.default_rng(seed=10)\n",
    "\n",
    "import matplotlib.patches as patches"
   ]
  },
  {
   "cell_type": "code",
   "execution_count": null,
   "metadata": {},
   "outputs": [],
   "source": [
    "with open('../settings.yaml', 'r') as file:\n",
    "  config = yaml.safe_load(file)"
   ]
  },
  {
   "cell_type": "code",
   "execution_count": null,
   "metadata": {},
   "outputs": [],
   "source": [
    "voro_cfg = config['VORONOI_DATA']\n",
    "mat_cfg = config['MATERIAL']"
   ]
  },
  {
   "cell_type": "code",
   "execution_count": null,
   "metadata": {},
   "outputs": [],
   "source": [
    "beta_extent = _Ext(voro_cfg['thick_min'], voro_cfg['thick_max'])\n",
    "orient_ext = _Ext(voro_cfg['orient_min'], voro_cfg['orient_max'])\n",
    "aniso_ext = _Ext(voro_cfg['aniso_min'], voro_cfg['aniso_max'])\n",
    "\n",
    "macro_bbox = voronoi.VoronoiExtent(x=_Ext(0., 3.),\n",
    "                                   y=_Ext(0., 3.))\n",
    "macro_mesh = mesher.Mesher(nelx=3,\n",
    "                           nely=3,\n",
    "                           bounding_box=macro_bbox)\n",
    "\n",
    "\n",
    "nx, ny = 120, 120\n",
    "cx_start, cx_end = int(0.34*nx), int(0.67*nx)\n",
    "cy_start, cy_end = int(0.34*ny), int(0.67*ny)\n",
    "\n",
    "nx_img = cx_end - cx_start\n",
    "ny_img = cy_end - cy_start\n",
    "\n",
    "img_mesh = mesher.Mesher(nelx=nx, nely=ny, bounding_box=macro_bbox)\n",
    "\n",
    "voro_local_extent = voronoi.VoronoiExtent(x=_Ext(-0.5, 0.5),\n",
    "                                          y=_Ext(-0.5, 0.5))"
   ]
  },
  {
   "cell_type": "code",
   "execution_count": null,
   "metadata": {},
   "outputs": [],
   "source": [
    "struct_mat = material.MaterialConstants(youngs_modulus=mat_cfg['youngs_modulus'],\n",
    "                                        poissons_ratio=mat_cfg['poissons_ratio'])"
   ]
  },
  {
   "cell_type": "code",
   "execution_count": null,
   "metadata": {},
   "outputs": [],
   "source": [
    "H = homogenize.Homogenization(lx=1.,\n",
    "                              ly=1.,\n",
    "                              nelx=nx_img,\n",
    "                              nely=ny_img,\n",
    "                              phiInDeg=90.,\n",
    "                              matProp=struct_mat,\n",
    "                              penal=3.)"
   ]
  },
  {
   "cell_type": "markdown",
   "metadata": {},
   "source": [
    "# Random voronoi parameters"
   ]
  },
  {
   "cell_type": "code",
   "execution_count": null,
   "metadata": {},
   "outputs": [],
   "source": [
    "num_samples = 12000\n",
    "num_cells_x, num_cells_y = voro_cfg['cells_per_elem']\n",
    "min_seperation = voro_cfg['min_seperation']\n",
    "cells_per_mstr = num_cells_x*num_cells_y\n",
    "\n",
    "cx = np.zeros((num_samples, macro_mesh.num_elems, cells_per_mstr))\n",
    "cy = np.zeros((num_samples, macro_mesh.num_elems, cells_per_mstr))\n",
    "\n",
    "ckey, bkey, akey, okey = rng.spawn(4)\n",
    "\n",
    "for s in range(num_samples):\n",
    "  for neigh in range(macro_mesh.num_elems):\n",
    "    cx[s,neigh,:], cy[s,neigh,:] = mesher.generate_randomly_perturbed_grid_points(\n",
    "                                                 num_cells_x,\n",
    "                                                 num_cells_y,\n",
    "                                                 min_seperation,\n",
    "                                                 voro_local_extent,\n",
    "                                                 ckey)\n",
    "\n",
    "\n",
    "beta = utils.unnormalize(bkey.random((num_samples,)), beta_extent)\n",
    "aniso = utils.unnormalize(akey.random((num_samples,)), aniso_ext)\n",
    "orient = utils.unnormalize(okey.random((num_samples,)), orient_ext)"
   ]
  },
  {
   "cell_type": "markdown",
   "metadata": {},
   "source": [
    "# Generate homogenized data"
   ]
  },
  {
   "cell_type": "code",
   "execution_count": null,
   "metadata": {},
   "outputs": [],
   "source": [
    "mstr_imgs = np.zeros((num_samples, nx_img, ny_img))\n",
    "constitutive_chol_data = np.zeros((num_samples, 9))\n",
    "vol_frac = np.zeros((num_samples))\n",
    "\n",
    "plot_interval = num_samples/20\n",
    "\n",
    "for s in range(num_samples):\n",
    "  cx_glob, cy_glob = voronoi.compute_voronoi_cell_coordns_to_global_frame(\n",
    "                              cx[s,:,:], cy[s,:,:], macro_mesh)\n",
    "  \n",
    "  density = voronoi.compute_voronoi_density_field(img_mesh,\n",
    "                                                  cx_glob.reshape(-1),\n",
    "                                                  cy_glob.reshape(-1),\n",
    "                                                  beta[s],\n",
    "                                                  orient[s],\n",
    "                                                  aniso[s]\n",
    "                                              ).reshape((img_mesh.nelx, img_mesh.nely)).T\n",
    "  density_center = density[cx_start:cx_end, cy_start:cy_end]\n",
    "  C = H.homogenize(density_center)\n",
    "  L = np.linalg.cholesky(C)\n",
    "  vf = np.mean(density_center)\n",
    "\n",
    "  mstr_imgs[s, :, :] = density_center\n",
    "  constitutive_chol_data[s, 0] = L[0,0]\n",
    "  constitutive_chol_data[s, 1] = L[1,1]\n",
    "  constitutive_chol_data[s, 2] = L[2,2]\n",
    "  constitutive_chol_data[s, 3] = L[1,0]\n",
    "  constitutive_chol_data[s, 4] = L[2,0]\n",
    "  constitutive_chol_data[s, 5] = L[2,1]\n",
    "  vol_frac[s] = vf\n",
    "  if s%plot_interval == 0:\n",
    "    print(f'{s}/{num_samples}')\n",
    "    print('aniso', aniso[s])\n",
    "    print('theta', orient[s])\n",
    "    print('beta', beta[s])\n",
    "    print('vf', vf)\n",
    "    print('C_00', C[0, 0])\n",
    "    print('C_11', C[1, 1])\n",
    "    fig, ax = plt.subplots(1, 3)\n",
    "    ax[0].scatter(cx_glob, cy_glob)\n",
    "    rect = patches.Rectangle((1, 1), 1, 1, linewidth=1, edgecolor='r', facecolor='none')\n",
    "    ax[0].add_patch(rect)\n",
    "    ax[0].set_aspect('equal')\n",
    "    ax[1].imshow(density, cmap='coolwarm', origin='lower')\n",
    "    ax[2].imshow(density_center, cmap='coolwarm', origin='lower')\n",
    "    plt.show()"
   ]
  },
  {
   "cell_type": "code",
   "execution_count": null,
   "metadata": {},
   "outputs": [],
   "source": [
    "def save_gen_data():\n",
    "  np.save('../data/cx_aniso_raw', cx)\n",
    "  np.save('../data/cy_aniso_raw', cy)\n",
    "  np.save('../data/beta_aniso_raw', beta)\n",
    "  np.save('../data/orient_aniso_raw', orient)\n",
    "  np.save('../data/aniso_raw', aniso)\n",
    "  np.save('../data/vf_aniso_raw', vol_frac)\n",
    "  np.save('../data/const_chol_aniso_raw', constitutive_chol_data)\n",
    "  np.save('../data/mstr_imgs_aniso_raw', mstr_imgs)\n",
    "\n",
    "save_gen_data()"
   ]
  },
  {
   "cell_type": "markdown",
   "metadata": {},
   "source": [
    "# Retrieve C matrix from L matrix and plot "
   ]
  },
  {
   "cell_type": "code",
   "execution_count": null,
   "metadata": {},
   "outputs": [],
   "source": [
    "\n",
    "L = np.zeros((num_samples, 3, 3))\n",
    "L[:,0,0] = constitutive_chol_data[:, 0]\n",
    "L[:,1,1] = constitutive_chol_data[:, 1]\n",
    "L[:,2,2] = constitutive_chol_data[:, 2]\n",
    "L[:,1,0] = constitutive_chol_data[:, 3]\n",
    "L[:,2,0] = constitutive_chol_data[:, 4]\n",
    "L[:,2,1] = constitutive_chol_data[:, 5]\n",
    "\n",
    "C_data = np.einsum('dij,djk->dik',L, L.transpose(0,2,1))\n",
    "\n",
    "img = plt.hexbin(C_data[:,0,0], C_data[:,1,1], C=vol_frac, cmap='coolwarm', gridsize=20)\n",
    "cbar = plt.colorbar(img)\n",
    "cbar.ax.tick_params(labelsize=38, labelfontfamily=\"Times New Roman\")  \n",
    "\n",
    "cbar.set_label('Volume Fraction', fontname='Times New Roman', fontsize=35)\n",
    "plt.xlabel('$C_{00}$', fontname='Times New Roman', fontsize=35)\n",
    "plt.ylabel('$C_{11}$', fontname='Times New Roman', fontsize=35)\n",
    "plt.xticks(np.arange(0, 1.1, 0.2), fontname='Times New Roman', fontsize=35)\n",
    "plt.yticks(np.arange(0, 1.1, 0.2), fontname='Times New Roman', fontsize=35)\n",
    "\n",
    "plt.gca().tick_params(axis='both', which='major', length=18, width=1)\n",
    "plt.gca().tick_params(axis='both', which='minor', length=7, width=1)\n",
    "plt.gca().yaxis.set_minor_locator(plt.MultipleLocator(0.05)) \n",
    "plt.gca().xaxis.set_minor_locator(plt.MultipleLocator(0.05)) \n",
    "\n",
    "plt.show()"
   ]
  },
  {
   "cell_type": "code",
   "execution_count": null,
   "metadata": {},
   "outputs": [],
   "source": [
    "\n",
    "plt.figure()\n",
    "plt.scatter(orient, C_data[:, 0, 0])\n",
    "plt.xlabel('theta')\n",
    "plt.ylabel('C_00')\n",
    "plt.show()"
   ]
  },
  {
   "cell_type": "markdown",
   "metadata": {},
   "source": [
    "# Plot all the input and output features of the NN"
   ]
  },
  {
   "cell_type": "code",
   "execution_count": null,
   "metadata": {},
   "outputs": [],
   "source": [
    "# Input features\n",
    "fig, axs = plt.subplots(5,1)\n",
    "for ftr,ttl,ax in zip(\n",
    "  [cx, cy, beta, orient, aniso],\n",
    "   ['cx','cy','beta', 'orient', 'aniso'],\n",
    "   axs.reshape(-1)):\n",
    "  ax.hist(ftr.reshape(-1))\n",
    "  ax.set_title(ttl)\n",
    "# plt.axis('equal')\n",
    "plt.show()\n",
    "\n",
    "# C components\n",
    "fig, axs = plt.subplots(2,3)\n",
    "for ftr,ttl,ax in zip(\n",
    "  [C_data[:,0,0], C_data[:,1,1], C_data[:,2,2],\n",
    "                 C_data[:,0,1], C_data[:,0,2], C_data[:,1,2]],\n",
    "   ['C00','C11','C22','C01','C02','C12'],\n",
    "   axs.reshape(-1)):\n",
    "  ax.hist(ftr.reshape(-1))\n",
    "  ax.set_title(ttl)\n",
    "plt.show()\n",
    "\n",
    "# output features\n",
    "fig, axs = plt.subplots(2,3)\n",
    "for ftr,ttl,ax in zip(\n",
    "  range(7), ['L00','L11','L22','L10','L20','L21'],\n",
    "   axs.reshape(-1)):\n",
    "  ax.hist(constitutive_chol_data[:,ftr].reshape(-1))\n",
    "  ax.set_title(ttl)\n",
    "plt.show()"
   ]
  },
  {
   "cell_type": "markdown",
   "metadata": {},
   "source": [
    "# Plot vol frac distribution"
   ]
  },
  {
   "cell_type": "code",
   "execution_count": null,
   "metadata": {},
   "outputs": [],
   "source": [
    "\n",
    "plt.hist(vol_frac, bins=30, color='skyblue', edgecolor='black')\n",
    "\n",
    "# Customize fonts to Times New Roman\n",
    "plt.xlabel('Volume fraction', fontname='Times New Roman', fontsize=35)\n",
    "plt.ylabel('Frequency', fontname='Times New Roman', fontsize=35)\n",
    "\n",
    "\n",
    "# Adjust axis markers and labels\n",
    "plt.xticks(np.arange(0, 1.1, 0.2), fontname='Times New Roman', fontsize=35)\n",
    "plt.yticks(np.arange(0, 700, 100), fontname='Times New Roman', fontsize=35)\n",
    "plt.gca().yaxis.set_minor_locator(plt.MultipleLocator(20)) \n",
    "plt.gca().xaxis.set_minor_locator(plt.MultipleLocator(0.05)) \n",
    "plt.gca().tick_params(axis='both', which='major', length=18, width=1)\n",
    "plt.gca().tick_params(axis='both', which='minor', length=7, width=1)\n",
    "plt.show()\n"
   ]
  }
 ],
 "metadata": {
  "kernelspec": {
   "display_name": "torchenv",
   "language": "python",
   "name": "python3"
  },
  "language_info": {
   "codemirror_mode": {
    "name": "ipython",
    "version": 3
   },
   "file_extension": ".py",
   "mimetype": "text/x-python",
   "name": "python",
   "nbconvert_exporter": "python",
   "pygments_lexer": "ipython3",
   "version": "3.10.9"
  }
 },
 "nbformat": 4,
 "nbformat_minor": 2
}
